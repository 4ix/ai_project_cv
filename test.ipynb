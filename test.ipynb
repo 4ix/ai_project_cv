{
 "cells": [
  {
   "cell_type": "code",
   "execution_count": null,
   "metadata": {},
   "outputs": [],
   "source": [
    "import cv2\n",
    "import os\n",
    "import sys\n",
    "print(cv2.__version__)"
   ]
  },
  {
   "cell_type": "code",
   "execution_count": null,
   "metadata": {},
   "outputs": [],
   "source": [
    "# 원본 영상 로드\n",
    "filepath = './test/source.mp4'\n",
    "video = cv2.VideoCapture(filepath)\n",
    "\n",
    "if not video.isOpened():\n",
    "    print('video open failed')\n",
    "    sys.exit()"
   ]
  },
  {
   "cell_type": "code",
   "execution_count": null,
   "metadata": {},
   "outputs": [],
   "source": [
    "# 파일 정보 출력\n",
    "length = int(video.get(cv2.CAP_PROP_FRAME_COUNT))\n",
    "widht = int(video.get(cv2.CAP_PROP_FRAME_WIDTH))\n",
    "height = int(video.get(cv2.CAP_PROP_FRAME_HEIGHT))\n",
    "fps = video.get(cv2.CAP_PROP_FPS)\n",
    "\n",
    "print(f'l: {length}, w: {widht}, h: {height}, f: {fps}')"
   ]
  },
  {
   "cell_type": "code",
   "execution_count": null,
   "metadata": {},
   "outputs": [],
   "source": [
    "# 프레임 저장 디렉토리 생성\n",
    "try:\n",
    "    if not os.path.exists(filepath[:-4]):\n",
    "        os.makedirs(filepath[:-4])\n",
    "except OSError:\n",
    "    print('directory not founded' + filepath[:-4])"
   ]
  },
  {
   "cell_type": "code",
   "execution_count": null,
   "metadata": {},
   "outputs": [],
   "source": [
    "# 프레임 저장\n",
    "count = 0\n",
    "while(video.isOpened()):\n",
    "    ret, image = video.read()\n",
    "    # print(ret, fps)\n",
    "    # if(int(video.get(1)) % fps == 0): # 30 fps 마다 추출\n",
    "    cv2.imwrite(filepath[:-4] + '/test%d.jpg' % count, image)\n",
    "    print(f'image number: {str(int(video.get(1)))}')\n",
    "    count += 10 # 프레임 얼마만큼 짜를지 설정\n",
    "    if count >= fps:\n",
    "        video.release()\n",
    "        break"
   ]
  }
 ],
 "metadata": {
  "kernelspec": {
   "display_name": "cv",
   "language": "python",
   "name": "cv"
  },
  "language_info": {
   "codemirror_mode": {
    "name": "ipython",
    "version": 3
   },
   "file_extension": ".py",
   "mimetype": "text/x-python",
   "name": "python",
   "nbconvert_exporter": "python",
   "pygments_lexer": "ipython3",
   "version": "3.10.9"
  },
  "orig_nbformat": 4
 },
 "nbformat": 4,
 "nbformat_minor": 2
}
